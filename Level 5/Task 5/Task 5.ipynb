{
 "cells": [
  {
   "cell_type": "code",
   "execution_count": 1,
   "metadata": {},
   "outputs": [],
   "source": [
    "import pyforest\n",
    "from dataclasses import dataclass"
   ]
  },
  {
   "cell_type": "code",
   "execution_count": 2,
   "metadata": {},
   "outputs": [],
   "source": [
    "@dataclass\n",
    "class stats_data:\n",
    "    count:int\n",
    "    mean:float\n",
    "    min:float\n",
    "    max:float\n",
    "    std:float\n",
    "    def plot_histogram(self,data,columnname):\n",
    "        plt.hist(data[columnname])\n",
    "        plt.title(f'Distribution of {columnname}')\n",
    "        plt.xlabel(columnname)\n",
    "        plt.ylabel('Frequency')\n",
    "        plt.show()  "
   ]
  },
  {
   "cell_type": "code",
   "execution_count": 4,
   "metadata": {},
   "outputs": [
    {
     "name": "stdout",
     "output_type": "stream",
     "text": [
      "\n",
      "Options\n",
      "1- Show Statistics\n",
      "2- Plot Histogram\n",
      "3- Exit\n"
     ]
    },
    {
     "data": {
      "application/javascript": "\n        if (window._pyforest_update_imports_cell) { window._pyforest_update_imports_cell('import numpy as np\\nimport pandas as pd\\nimport matplotlib.pyplot as plt'); }\n    ",
      "text/plain": [
       "<IPython.core.display.Javascript object>"
      ]
     },
     "metadata": {},
     "output_type": "display_data"
    },
    {
     "data": {
      "application/javascript": "\n        if (window._pyforest_update_imports_cell) { window._pyforest_update_imports_cell('import numpy as np\\nimport pandas as pd\\nimport matplotlib.pyplot as plt'); }\n    ",
      "text/plain": [
       "<IPython.core.display.Javascript object>"
      ]
     },
     "metadata": {},
     "output_type": "display_data"
    },
    {
     "name": "stdout",
     "output_type": "stream",
     "text": [
      "Count:1460\n",
      "Mean:180921.19589041095\n",
      "Min:34900\n",
      "Max:755000\n",
      "Standard deviation:79415.29188606751\n"
     ]
    }
   ],
   "source": [
    "def main():\n",
    "    run=True\n",
    "    while run:\n",
    "        print(\"\\nOptions\")\n",
    "        print(\"1- Show Statistics\")\n",
    "        print(\"2- Plot Histogram\")\n",
    "        print(\"3- Exit\")\n",
    "        try:\n",
    "            choice=int(input(\"Enter you choice:\"))\n",
    "        except ValueError:\n",
    "            print(\"Please enter a valid number\")\n",
    "            continue\n",
    "        if choice in [1,2]:\n",
    "            try:\n",
    "                data=pd.read_csv(input(\"Enter your data path:\"))\n",
    "            except FileNotFoundError:\n",
    "                print(\"Please enter a valid file path\")\n",
    "                continue\n",
    "            column_name=input(\"Enter your column name:\")\n",
    "            if column_name in data.columns:\n",
    "                statistics=stats_data(len(data[column_name]),data[column_name].mean(),min(data[column_name]),max(data[column_name]),np.std(data[column_name]))\n",
    "                if choice==1:\n",
    "                    print(f'Count:{statistics.count}')\n",
    "                    print(f'Mean:{statistics.mean}')\n",
    "                    print(f'Min:{statistics.min}')\n",
    "                    print(f'Max:{statistics.max}')\n",
    "                    print(f'Standard deviation:{statistics.std}')\n",
    "                    run=False\n",
    "                elif choice==2:\n",
    "                    statistics.plot_histogram(data,column_name)\n",
    "                    run=False\n",
    "            else:\n",
    "                print(f'{column_name} not in given data.Please enter a valid column')\n",
    "        elif choice==3:\n",
    "                print('Exiting....')\n",
    "                break\n",
    "        else:\n",
    "            print('Invalid choice. Please try again')\n",
    "if __name__ == \"__main__\":\n",
    "    main()\n",
    "\n",
    "            \n",
    "            \n",
    "            "
   ]
  }
 ],
 "metadata": {
  "kernelspec": {
   "display_name": "Python 3",
   "language": "python",
   "name": "python3"
  },
  "language_info": {
   "codemirror_mode": {
    "name": "ipython",
    "version": 3
   },
   "file_extension": ".py",
   "mimetype": "text/x-python",
   "name": "python",
   "nbconvert_exporter": "python",
   "pygments_lexer": "ipython3",
   "version": "3.12.5"
  }
 },
 "nbformat": 4,
 "nbformat_minor": 2
}
